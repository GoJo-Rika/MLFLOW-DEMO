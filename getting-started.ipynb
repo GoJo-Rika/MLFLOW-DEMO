{
 "cells": [
  {
   "cell_type": "markdown",
   "id": "18b32137",
   "metadata": {},
   "source": [
    "### MLFLOW Tracking Server"
   ]
  },
  {
   "cell_type": "code",
   "execution_count": 1,
   "id": "3967758e",
   "metadata": {},
   "outputs": [],
   "source": [
    "import mlflow"
   ]
  },
  {
   "cell_type": "code",
   "execution_count": 2,
   "id": "8e342a00",
   "metadata": {},
   "outputs": [
    {
     "data": {
      "text/plain": [
       "'2.22.0'"
      ]
     },
     "execution_count": 2,
     "metadata": {},
     "output_type": "execute_result"
    }
   ],
   "source": [
    "mlflow.__version__"
   ]
  },
  {
   "cell_type": "code",
   "execution_count": 3,
   "id": "67d631c9",
   "metadata": {},
   "outputs": [],
   "source": [
    "mlflow.set_tracking_uri(\"http://127.0.0.1:5000\")"
   ]
  },
  {
   "cell_type": "code",
   "execution_count": 11,
   "id": "5f567b2a",
   "metadata": {},
   "outputs": [
    {
     "name": "stdout",
     "output_type": "stream",
     "text": [
      "Experiment ID: 339324553580841718\n"
     ]
    }
   ],
   "source": [
    "# Create an experiment\n",
    "experiment = mlflow.create_experiment(\"my_experiments-2\")\n",
    "\n",
    "# experiment is already the experiment ID (a string)\n",
    "experiment_id = experiment\n",
    "\n",
    "print(f\"Experiment ID: {experiment_id}\")"
   ]
  },
  {
   "cell_type": "code",
   "execution_count": 12,
   "id": "deaacfaf",
   "metadata": {},
   "outputs": [
    {
     "name": "stdout",
     "output_type": "stream",
     "text": [
      "🏃 View run amusing-mole-201 at: http://127.0.0.1:5000/#/experiments/339324553580841718/runs/e3f8edc3eda34e329c4facbca2a8030a\n",
      "🧪 View experiment at: http://127.0.0.1:5000/#/experiments/339324553580841718\n"
     ]
    }
   ],
   "source": [
    "with mlflow.start_run(experiment_id=339324553580841718):\n",
    "    mlflow.log_metric(\"accuracy\", 0.9)\n",
    "    mlflow.log_param(\"learning_rate\", 0.01)"
   ]
  },
  {
   "cell_type": "code",
   "execution_count": 13,
   "id": "5745aa4e",
   "metadata": {},
   "outputs": [
    {
     "name": "stdout",
     "output_type": "stream",
     "text": [
      "🏃 View run skittish-goat-748 at: http://127.0.0.1:5000/#/experiments/785499049517678536/runs/c62b580999b641a8bcff397bdf38c0e0\n",
      "🧪 View experiment at: http://127.0.0.1:5000/#/experiments/785499049517678536\n"
     ]
    }
   ],
   "source": [
    "with mlflow.start_run():\n",
    "    mlflow.log_metric(\"test\", 1)\n",
    "    mlflow.log_metric(\"random\", 2)"
   ]
  },
  {
   "cell_type": "code",
   "execution_count": 4,
   "id": "c4a502d5",
   "metadata": {},
   "outputs": [
    {
     "name": "stdout",
     "output_type": "stream",
     "text": [
      "🏃 View run polite-ox-429 at: http://127.0.0.1:5000/#/experiments/785499049517678536/runs/2fef5c3a58494d60993d8bb2b13bc24d\n",
      "🧪 View experiment at: http://127.0.0.1:5000/#/experiments/785499049517678536\n"
     ]
    }
   ],
   "source": [
    "mlflow.set_experiment(\"Check localhost connection\")\n",
    "\n",
    "with mlflow.start_run():\n",
    "    mlflow.log_metric(\"test\", 1)\n",
    "    mlflow.log_metric(\"random\", 2)"
   ]
  },
  {
   "cell_type": "code",
   "execution_count": 5,
   "id": "9fccf620",
   "metadata": {},
   "outputs": [
    {
     "name": "stdout",
     "output_type": "stream",
     "text": [
      "🏃 View run bright-gull-507 at: http://127.0.0.1:5000/#/experiments/785499049517678536/runs/be499d03860c4465b2ef642ecd87761e\n",
      "🧪 View experiment at: http://127.0.0.1:5000/#/experiments/785499049517678536\n"
     ]
    }
   ],
   "source": [
    "with mlflow.start_run():\n",
    "    mlflow.log_metric(\"test1\", 3)\n",
    "    mlflow.log_metric(\"random1\", 4)"
   ]
  },
  {
   "cell_type": "code",
   "execution_count": 6,
   "id": "18b1a62c",
   "metadata": {},
   "outputs": [
    {
     "name": "stdout",
     "output_type": "stream",
     "text": [
      "🏃 View run fortunate-carp-958 at: http://127.0.0.1:5000/#/experiments/785499049517678536/runs/2cbb04e3639143f3a3ec4932a3067e76\n",
      "🧪 View experiment at: http://127.0.0.1:5000/#/experiments/785499049517678536\n"
     ]
    }
   ],
   "source": [
    "with mlflow.start_run():\n",
    "    mlflow.log_metric(\"test2\", 5)\n",
    "    mlflow.log_metric(\"random2\", 6)"
   ]
  },
  {
   "cell_type": "code",
   "execution_count": null,
   "id": "c208c4d2",
   "metadata": {},
   "outputs": [],
   "source": []
  }
 ],
 "metadata": {
  "kernelspec": {
   "display_name": ".venv",
   "language": "python",
   "name": "python3"
  },
  "language_info": {
   "codemirror_mode": {
    "name": "ipython",
    "version": 3
   },
   "file_extension": ".py",
   "mimetype": "text/x-python",
   "name": "python",
   "nbconvert_exporter": "python",
   "pygments_lexer": "ipython3",
   "version": "3.12.10"
  }
 },
 "nbformat": 4,
 "nbformat_minor": 5
}
